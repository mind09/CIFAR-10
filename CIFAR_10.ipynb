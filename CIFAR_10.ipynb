{
  "nbformat": 4,
  "nbformat_minor": 0,
  "metadata": {
    "colab": {
      "name": "CIFAR-10.ipynb",
      "provenance": [],
      "collapsed_sections": []
    },
    "kernelspec": {
      "name": "python3",
      "display_name": "Python 3"
    },
    "accelerator": "GPU"
  },
  "cells": [
    {
      "cell_type": "markdown",
      "metadata": {
        "id": "LCNEB5BLCpM2"
      },
      "source": [
        "# **CIFAR-10 REPORT BY MINDAUGAS SKOCEKAS**\n"
      ]
    },
    {
      "cell_type": "markdown",
      "metadata": {
        "id": "2o6ffVEeg86y"
      },
      "source": [
        "# Defining the problem\n",
        "\n",
        "In this report I will be experimenting with a dataset called CIFAR-10 to predict different classes of the image. The dataset contains ten object classes which are for the airplane, automobile, bird, cat, deer, dog, frog, horse, ship and truck. Each object class holds 6000 images. Therefore, the problem that I am trying to solve is to help my machine to learn how to predict one of my image inputs to recognise in which class each picture belongs. Hence,it is a multi-class image classification problem that I am trying to solve. I can get on with this expermentation as I followed all the steps to hypothesize that my expermitation will be successful because the data-set that I am currently using can predict my outputs with my current inputs. Please follow my expermentation below for the evidence."
      ]
    },
    {
      "cell_type": "markdown",
      "metadata": {
        "id": "QrMeUh5Aj-N8"
      },
      "source": [
        "# Measuring success\n",
        "\n",
        "I will be measuring success by the accuracy of each image labelling. Hence, since I am trying to solve classification problem- the loss fuction will be cross-entropy as the probability value will be between 0 and 1. When the predicted probability approaches 1, the loss will decrease and the probability of guessing the image will improve."
      ]
    },
    {
      "cell_type": "markdown",
      "metadata": {
        "id": "QZ5eAlb0cYey"
      },
      "source": [
        "# Evaluation Protocol\n",
        "The protocol that I am planning to use is hold-out validation as there are plenty of data available for me. This data set has two sets- training set and the testing set. I will be intending to use different dropout rates, regularasations and try out differenct capacities. After each test there will be graphs that I will evaluate and add extra things accordingly."
      ]
    },
    {
      "cell_type": "markdown",
      "metadata": {
        "id": "fneJwwXYdNSV"
      },
      "source": [
        "# Data Preparation\n",
        "\n",
        "\n"
      ]
    },
    {
      "cell_type": "markdown",
      "metadata": {
        "id": "PVvfC__GZwo3"
      },
      "source": [
        "Preparing the data that will be used for five different models, loading the dataset and then performing one-hot:"
      ]
    },
    {
      "cell_type": "code",
      "metadata": {
        "id": "_1Im-mV20saE"
      },
      "source": [
        "# importing libraries/layers/regularizers for my models.\n",
        "import tensorflow as tf\n",
        "from keras.datasets import cifar10\n",
        "from keras.utils import to_categorical\n",
        "from keras.models import Sequential\n",
        "from keras.layers import Conv2D, MaxPool2D, Flatten, Dense, Dropout, BatchNormalization\n",
        "from tensorflow.keras import regularizers\n",
        "import matplotlib.pyplot as plt\n",
        "\n",
        "\n",
        "# load the database\n",
        "(x_train, y_train), (x_test, y_test) = cifar10.load_data()"
      ],
      "execution_count": null,
      "outputs": []
    },
    {
      "cell_type": "code",
      "metadata": {
        "id": "C2lJAAzT3Jro"
      },
      "source": [
        "#One Hot\n",
        "x_train = x_train.astype('float32') /255\n",
        "x_test = x_test.astype('float32') /255\n",
        "y_train = to_categorical(y_train)\n",
        "y_test = to_categorical(y_test)"
      ],
      "execution_count": null,
      "outputs": []
    },
    {
      "cell_type": "markdown",
      "metadata": {
        "id": "d0GI9DdLdvP9"
      },
      "source": [
        "# Beat Baseline"
      ]
    },
    {
      "cell_type": "markdown",
      "metadata": {
        "id": "CNwXvy9xaFpc"
      },
      "source": [
        "The first test model, batch normalization is used as the testing is done with 10+ epochs."
      ]
    },
    {
      "cell_type": "code",
      "metadata": {
        "colab": {
          "base_uri": "https://localhost:8080/"
        },
        "id": "t_s4x4S495YJ",
        "outputId": "14db5030-9dc4-4e09-c673-ee04ee7052f9"
      },
      "source": [
        "# Creating a model\n",
        "model = Sequential()\n",
        "model.add(Conv2D(filters=32, kernel_size=(3,3), activation='relu', input_shape=(32,32,3)))\n",
        "model.add(BatchNormalization())\n",
        "model.add(Dense(300, activation='relu'))\n",
        "model.add(MaxPool2D(2,2))\n",
        "model.add(Conv2D(filters=32, kernel_size=(3,3), activation='relu'))\n",
        "model.add(MaxPool2D())\n",
        "model.add(Dense(128, activation='relu'))\n",
        "model.add(Dense(64, activation='relu'))\n",
        "model.add(MaxPool2D(2,2))\n",
        "model.add(Flatten())\n",
        "model.add(Dense(10, activation='softmax'))\n",
        "\n",
        "\n",
        "\n",
        "\n",
        "\n",
        "# compiling my model\n",
        "model.compile(optimizer='adam', loss='categorical_crossentropy', metrics=['accuracy'])\n",
        "print(model.summary())"
      ],
      "execution_count": null,
      "outputs": [
        {
          "output_type": "stream",
          "text": [
            "Model: \"sequential\"\n",
            "_________________________________________________________________\n",
            "Layer (type)                 Output Shape              Param #   \n",
            "=================================================================\n",
            "conv2d (Conv2D)              (None, 30, 30, 32)        896       \n",
            "_________________________________________________________________\n",
            "batch_normalization (BatchNo (None, 30, 30, 32)        128       \n",
            "_________________________________________________________________\n",
            "dense (Dense)                (None, 30, 30, 300)       9900      \n",
            "_________________________________________________________________\n",
            "max_pooling2d (MaxPooling2D) (None, 15, 15, 300)       0         \n",
            "_________________________________________________________________\n",
            "conv2d_1 (Conv2D)            (None, 13, 13, 32)        86432     \n",
            "_________________________________________________________________\n",
            "max_pooling2d_1 (MaxPooling2 (None, 6, 6, 32)          0         \n",
            "_________________________________________________________________\n",
            "dense_1 (Dense)              (None, 6, 6, 128)         4224      \n",
            "_________________________________________________________________\n",
            "dense_2 (Dense)              (None, 6, 6, 64)          8256      \n",
            "_________________________________________________________________\n",
            "max_pooling2d_2 (MaxPooling2 (None, 3, 3, 64)          0         \n",
            "_________________________________________________________________\n",
            "flatten (Flatten)            (None, 576)               0         \n",
            "_________________________________________________________________\n",
            "dense_3 (Dense)              (None, 10)                5770      \n",
            "=================================================================\n",
            "Total params: 115,606\n",
            "Trainable params: 115,542\n",
            "Non-trainable params: 64\n",
            "_________________________________________________________________\n",
            "None\n"
          ],
          "name": "stdout"
        }
      ]
    },
    {
      "cell_type": "markdown",
      "metadata": {
        "id": "9loj0p4Od539"
      },
      "source": [
        "# Scaling Up"
      ]
    },
    {
      "cell_type": "markdown",
      "metadata": {
        "id": "5D9K7sJsapn8"
      },
      "source": [
        "Training of the data. Batch size: 150, epochs: 20."
      ]
    },
    {
      "cell_type": "markdown",
      "metadata": {
        "id": "pBYvuV0s0C1i"
      },
      "source": [
        "Test 1/5:"
      ]
    },
    {
      "cell_type": "code",
      "metadata": {
        "colab": {
          "base_uri": "https://localhost:8080/"
        },
        "id": "zEa9qjfJ9zEy",
        "outputId": "16f31f91-5784-465e-d92d-58bf52b95fa8"
      },
      "source": [
        "# training data\n",
        "history = model.fit(x_train, y_train, batch_size=150, epochs=20, verbose=1, validation_data=(x_test, y_test))"
      ],
      "execution_count": null,
      "outputs": [
        {
          "output_type": "stream",
          "text": [
            "Epoch 1/20\n",
            "334/334 [==============================] - 10s 29ms/step - loss: 1.5140 - accuracy: 0.4561 - val_loss: 1.7226 - val_accuracy: 0.4800\n",
            "Epoch 2/20\n",
            "334/334 [==============================] - 10s 29ms/step - loss: 1.1606 - accuracy: 0.5897 - val_loss: 1.1556 - val_accuracy: 0.5894\n",
            "Epoch 3/20\n",
            "334/334 [==============================] - 10s 29ms/step - loss: 1.0409 - accuracy: 0.6358 - val_loss: 1.0867 - val_accuracy: 0.6123\n",
            "Epoch 4/20\n",
            "334/334 [==============================] - 10s 29ms/step - loss: 0.9448 - accuracy: 0.6723 - val_loss: 0.9626 - val_accuracy: 0.6645\n",
            "Epoch 5/20\n",
            "334/334 [==============================] - 10s 29ms/step - loss: 0.8813 - accuracy: 0.6928 - val_loss: 0.9575 - val_accuracy: 0.6747\n",
            "Epoch 6/20\n",
            "334/334 [==============================] - 10s 29ms/step - loss: 0.8307 - accuracy: 0.7102 - val_loss: 0.9299 - val_accuracy: 0.6804\n",
            "Epoch 7/20\n",
            "334/334 [==============================] - 10s 29ms/step - loss: 0.7891 - accuracy: 0.7240 - val_loss: 0.9604 - val_accuracy: 0.6643\n",
            "Epoch 8/20\n",
            "334/334 [==============================] - 10s 29ms/step - loss: 0.7579 - accuracy: 0.7369 - val_loss: 0.9154 - val_accuracy: 0.6936\n",
            "Epoch 9/20\n",
            "334/334 [==============================] - 10s 29ms/step - loss: 0.7234 - accuracy: 0.7497 - val_loss: 1.0694 - val_accuracy: 0.6471\n",
            "Epoch 10/20\n",
            "334/334 [==============================] - 10s 29ms/step - loss: 0.6907 - accuracy: 0.7616 - val_loss: 0.8781 - val_accuracy: 0.7056\n",
            "Epoch 11/20\n",
            "334/334 [==============================] - 10s 29ms/step - loss: 0.6714 - accuracy: 0.7678 - val_loss: 0.8300 - val_accuracy: 0.7181\n",
            "Epoch 12/20\n",
            "334/334 [==============================] - 10s 29ms/step - loss: 0.6378 - accuracy: 0.7791 - val_loss: 0.8395 - val_accuracy: 0.7189\n",
            "Epoch 13/20\n",
            "334/334 [==============================] - 10s 29ms/step - loss: 0.6193 - accuracy: 0.7842 - val_loss: 0.8347 - val_accuracy: 0.7250\n",
            "Epoch 14/20\n",
            "334/334 [==============================] - 10s 29ms/step - loss: 0.5995 - accuracy: 0.7906 - val_loss: 0.8415 - val_accuracy: 0.7135\n",
            "Epoch 15/20\n",
            "334/334 [==============================] - 10s 29ms/step - loss: 0.5780 - accuracy: 0.7997 - val_loss: 1.1011 - val_accuracy: 0.6505\n",
            "Epoch 16/20\n",
            "334/334 [==============================] - 10s 29ms/step - loss: 0.5697 - accuracy: 0.8012 - val_loss: 0.8687 - val_accuracy: 0.7177\n",
            "Epoch 17/20\n",
            "334/334 [==============================] - 10s 29ms/step - loss: 0.5438 - accuracy: 0.8110 - val_loss: 0.8737 - val_accuracy: 0.7157\n",
            "Epoch 18/20\n",
            "334/334 [==============================] - 10s 29ms/step - loss: 0.5263 - accuracy: 0.8169 - val_loss: 0.8471 - val_accuracy: 0.7155\n",
            "Epoch 19/20\n",
            "334/334 [==============================] - 10s 29ms/step - loss: 0.5052 - accuracy: 0.8222 - val_loss: 0.8934 - val_accuracy: 0.7090\n",
            "Epoch 20/20\n",
            "334/334 [==============================] - 10s 29ms/step - loss: 0.4961 - accuracy: 0.8252 - val_loss: 1.0892 - val_accuracy: 0.6639\n"
          ],
          "name": "stdout"
        }
      ]
    },
    {
      "cell_type": "markdown",
      "metadata": {
        "id": "ha2kfgTva_1R"
      },
      "source": [
        "Plotting the results:"
      ]
    },
    {
      "cell_type": "code",
      "metadata": {
        "colab": {
          "base_uri": "https://localhost:8080/",
          "height": 313
        },
        "id": "b-9nRE9EYa3x",
        "outputId": "b4c254f3-606d-47b5-950d-334dc48b1f13"
      },
      "source": [
        "plt.plot(history.history['accuracy'], label='accuracy')\n",
        "plt.plot(history.history['val_accuracy'], label = 'val_accuracy')\n",
        "plt.title('Training and Validation Accuracy')\n",
        "plt.xlabel('Epoch')\n",
        "plt.ylabel('Accuracy')\n",
        "plt.legend(loc='upper left')"
      ],
      "execution_count": null,
      "outputs": [
        {
          "output_type": "execute_result",
          "data": {
            "text/plain": [
              "<matplotlib.legend.Legend at 0x7f51b4d2b6a0>"
            ]
          },
          "metadata": {
            "tags": []
          },
          "execution_count": 57
        },
        {
          "output_type": "display_data",
          "data": {
            "image/png": "[encoded data removed]",
            "text/plain": [
              "<Figure size 432x288 with 1 Axes>"
            ]
          },
          "metadata": {
            "tags": [],
            "needs_background": "light"
          }
        }
      ]
    },
    {
      "cell_type": "code",
      "metadata": {
        "colab": {
          "base_uri": "https://localhost:8080/",
          "height": 313
        },
        "id": "zL7WDnlrp1Q7",
        "outputId": "e3bcf7de-f6ad-40d9-d8be-b58dd4ccb6aa"
      },
      "source": [
        "plt.plot(history.history['loss'])\n",
        "plt.plot(history.history['val_loss'])\n",
        "plt.title('Training and Validation Loss')\n",
        "plt.xlabel('Epoch')\n",
        "plt.ylabel('Loss')\n",
        "plt.legend(['loss', 'val_loss'], loc='upper right')"
      ],
      "execution_count": null,
      "outputs": [
        {
          "output_type": "execute_result",
          "data": {
            "text/plain": [
              "<matplotlib.legend.Legend at 0x7f51b4c42f28>"
            ]
          },
          "metadata": {
            "tags": []
          },
          "execution_count": 58
        },
        {
          "output_type": "display_data",
          "data": {
            "image/png": "[encoded data removed]",
            "text/plain": [
              "<Figure size 432x288 with 1 Axes>"
            ]
          },
          "metadata": {
            "tags": [],
            "needs_background": "light"
          }
        }
      ]
    },
    {
      "cell_type": "markdown",
      "metadata": {
        "id": "puRRSA6TMlyY"
      },
      "source": [
        "The model above clearly produces overfitting as the value loss is higher than loss. The accuracy that is achieved with this model is around 70%."
      ]
    },
    {
      "cell_type": "markdown",
      "metadata": {
        "id": "VGQRBW9JeGzd"
      },
      "source": [
        "# Regularising Tuning"
      ]
    },
    {
      "cell_type": "markdown",
      "metadata": {
        "id": "5ZLu-Mtrbds4"
      },
      "source": [
        "Other four tests are done below:"
      ]
    },
    {
      "cell_type": "markdown",
      "metadata": {
        "id": "fE3gw1xNh3nk"
      },
      "source": [
        "Test 2/5:"
      ]
    },
    {
      "cell_type": "markdown",
      "metadata": {
        "id": "sXRtM0QIbtmT"
      },
      "source": [
        "A slight change to the model, this time using Dropout to achieve regulazation and get better results. Batch size changed to 250 and epochs to 30."
      ]
    },
    {
      "cell_type": "code",
      "metadata": {
        "colab": {
          "base_uri": "https://localhost:8080/"
        },
        "id": "n3g2zcy3i7Ey",
        "outputId": "85f37061-9ec6-42e2-a426-77d95596ebe6"
      },
      "source": [
        "    model = Sequential()\n",
        "    model.add(Conv2D(filters=32, kernel_size=(3,3), activation='relu', input_shape=(32,32,3)))\n",
        "    model.add(BatchNormalization())\n",
        "    model.add(MaxPool2D(2, 2))\n",
        "    model.add(Dropout(0.2))\n",
        "    model.add(Conv2D(64, 3, 3, activation='relu'))\n",
        "    model.add(MaxPool2D(2, 2))\n",
        "    model.add(Flatten())\n",
        "    model.add(Dropout(0.2))\n",
        "    model.add(Dropout(0.5))\n",
        "    model.add(Dense(1024, activation='relu'))\n",
        "    model.add(Dropout(0.5))\n",
        "    model.add(Dense(512, activation='relu'))\n",
        "    model.add(Dropout(0.5))\n",
        "    model.add(Dense(10, activation='softmax'))\n",
        "\n",
        "\n",
        "model.compile(optimizer='adam', loss='categorical_crossentropy', metrics=['accuracy'])\n",
        "print(model.summary())"
      ],
      "execution_count": null,
      "outputs": [
        {
          "output_type": "stream",
          "text": [
            "Model: \"sequential_54\"\n",
            "_________________________________________________________________\n",
            "Layer (type)                 Output Shape              Param #   \n",
            "=================================================================\n",
            "conv2d_139 (Conv2D)          (None, 30, 30, 32)        896       \n",
            "_________________________________________________________________\n",
            "batch_normalization_32 (Batc (None, 30, 30, 32)        128       \n",
            "_________________________________________________________________\n",
            "max_pooling2d_91 (MaxPooling (None, 15, 15, 32)        0         \n",
            "_________________________________________________________________\n",
            "dropout_98 (Dropout)         (None, 15, 15, 32)        0         \n",
            "_________________________________________________________________\n",
            "conv2d_140 (Conv2D)          (None, 5, 5, 64)          18496     \n",
            "_________________________________________________________________\n",
            "max_pooling2d_92 (MaxPooling (None, 2, 2, 64)          0         \n",
            "_________________________________________________________________\n",
            "flatten_35 (Flatten)         (None, 256)               0         \n",
            "_________________________________________________________________\n",
            "dropout_99 (Dropout)         (None, 256)               0         \n",
            "_________________________________________________________________\n",
            "dropout_100 (Dropout)        (None, 256)               0         \n",
            "_________________________________________________________________\n",
            "dense_47 (Dense)             (None, 1024)              263168    \n",
            "_________________________________________________________________\n",
            "dropout_101 (Dropout)        (None, 1024)              0         \n",
            "_________________________________________________________________\n",
            "dense_48 (Dense)             (None, 512)               524800    \n",
            "_________________________________________________________________\n",
            "dropout_102 (Dropout)        (None, 512)               0         \n",
            "_________________________________________________________________\n",
            "dense_49 (Dense)             (None, 10)                5130      \n",
            "=================================================================\n",
            "Total params: 812,618\n",
            "Trainable params: 812,554\n",
            "Non-trainable params: 64\n",
            "_________________________________________________________________\n",
            "None\n"
          ],
          "name": "stdout"
        }
      ]
    },
    {
      "cell_type": "code",
      "metadata": {
        "colab": {
          "base_uri": "https://localhost:8080/"
        },
        "id": "MKx3c-wPiCsA",
        "outputId": "4359228d-9c71-4648-a381-f694f0ea64ce"
      },
      "source": [
        "history = model.fit(x_train, y_train, batch_size=250, epochs=30, verbose=1, validation_data=(x_test, y_test))"
      ],
      "execution_count": null,
      "outputs": [
        {
          "output_type": "stream",
          "text": [
            "Epoch 1/30\n",
            "200/200 [==============================] - 2s 10ms/step - loss: 1.9685 - accuracy: 0.2590 - val_loss: 2.1973 - val_accuracy: 0.2042\n",
            "Epoch 2/30\n",
            "200/200 [==============================] - 2s 8ms/step - loss: 1.7314 - accuracy: 0.3469 - val_loss: 2.0168 - val_accuracy: 0.2571\n",
            "Epoch 3/30\n",
            "200/200 [==============================] - 2s 8ms/step - loss: 1.6491 - accuracy: 0.3862 - val_loss: 1.6937 - val_accuracy: 0.4183\n",
            "Epoch 4/30\n",
            "200/200 [==============================] - 2s 8ms/step - loss: 1.6028 - accuracy: 0.4090 - val_loss: 1.4875 - val_accuracy: 0.4721\n",
            "Epoch 5/30\n",
            "200/200 [==============================] - 2s 8ms/step - loss: 1.5676 - accuracy: 0.4181 - val_loss: 1.4861 - val_accuracy: 0.4728\n",
            "Epoch 6/30\n",
            "200/200 [==============================] - 2s 8ms/step - loss: 1.5334 - accuracy: 0.4367 - val_loss: 1.4386 - val_accuracy: 0.4873\n",
            "Epoch 7/30\n",
            "200/200 [==============================] - 2s 8ms/step - loss: 1.5159 - accuracy: 0.4438 - val_loss: 1.4218 - val_accuracy: 0.4998\n",
            "Epoch 8/30\n",
            "200/200 [==============================] - 2s 8ms/step - loss: 1.4926 - accuracy: 0.4518 - val_loss: 1.4025 - val_accuracy: 0.5099\n",
            "Epoch 9/30\n",
            "200/200 [==============================] - 2s 8ms/step - loss: 1.4757 - accuracy: 0.4609 - val_loss: 1.3927 - val_accuracy: 0.4907\n",
            "Epoch 10/30\n",
            "200/200 [==============================] - 2s 8ms/step - loss: 1.4627 - accuracy: 0.4639 - val_loss: 1.4232 - val_accuracy: 0.4879\n",
            "Epoch 11/30\n",
            "200/200 [==============================] - 2s 8ms/step - loss: 1.4540 - accuracy: 0.4721 - val_loss: 1.3550 - val_accuracy: 0.5156\n",
            "Epoch 12/30\n",
            "200/200 [==============================] - 2s 8ms/step - loss: 1.4358 - accuracy: 0.4790 - val_loss: 1.4333 - val_accuracy: 0.4989\n",
            "Epoch 13/30\n",
            "200/200 [==============================] - 2s 8ms/step - loss: 1.4322 - accuracy: 0.4814 - val_loss: 1.3531 - val_accuracy: 0.5202\n",
            "Epoch 14/30\n",
            "200/200 [==============================] - 2s 8ms/step - loss: 1.4231 - accuracy: 0.4884 - val_loss: 1.3254 - val_accuracy: 0.5336\n",
            "Epoch 15/30\n",
            "200/200 [==============================] - 2s 8ms/step - loss: 1.4080 - accuracy: 0.4887 - val_loss: 1.3161 - val_accuracy: 0.5353\n",
            "Epoch 16/30\n",
            "200/200 [==============================] - 2s 8ms/step - loss: 1.3987 - accuracy: 0.4926 - val_loss: 1.3075 - val_accuracy: 0.5526\n",
            "Epoch 17/30\n",
            "200/200 [==============================] - 2s 8ms/step - loss: 1.3919 - accuracy: 0.4975 - val_loss: 1.3155 - val_accuracy: 0.5274\n",
            "Epoch 18/30\n",
            "200/200 [==============================] - 2s 8ms/step - loss: 1.3827 - accuracy: 0.5007 - val_loss: 1.2581 - val_accuracy: 0.5606\n",
            "Epoch 19/30\n",
            "200/200 [==============================] - 2s 8ms/step - loss: 1.3787 - accuracy: 0.5020 - val_loss: 1.2245 - val_accuracy: 0.5699\n",
            "Epoch 20/30\n",
            "200/200 [==============================] - 2s 8ms/step - loss: 1.3721 - accuracy: 0.5050 - val_loss: 1.3067 - val_accuracy: 0.5455\n",
            "Epoch 21/30\n",
            "200/200 [==============================] - 2s 8ms/step - loss: 1.3665 - accuracy: 0.5077 - val_loss: 1.2536 - val_accuracy: 0.5530\n",
            "Epoch 22/30\n",
            "200/200 [==============================] - 2s 8ms/step - loss: 1.3565 - accuracy: 0.5120 - val_loss: 1.2150 - val_accuracy: 0.5747\n",
            "Epoch 23/30\n",
            "200/200 [==============================] - 2s 8ms/step - loss: 1.3594 - accuracy: 0.5135 - val_loss: 1.2101 - val_accuracy: 0.5801\n",
            "Epoch 24/30\n",
            "200/200 [==============================] - 2s 8ms/step - loss: 1.3541 - accuracy: 0.5136 - val_loss: 1.2310 - val_accuracy: 0.5556\n",
            "Epoch 25/30\n",
            "200/200 [==============================] - 2s 8ms/step - loss: 1.3464 - accuracy: 0.5153 - val_loss: 1.2790 - val_accuracy: 0.5487\n",
            "Epoch 26/30\n",
            "200/200 [==============================] - 2s 8ms/step - loss: 1.3470 - accuracy: 0.5170 - val_loss: 1.1948 - val_accuracy: 0.5985\n",
            "Epoch 27/30\n",
            "200/200 [==============================] - 2s 8ms/step - loss: 1.3409 - accuracy: 0.5183 - val_loss: 1.2072 - val_accuracy: 0.5766\n",
            "Epoch 28/30\n",
            "200/200 [==============================] - 2s 8ms/step - loss: 1.3361 - accuracy: 0.5209 - val_loss: 1.1938 - val_accuracy: 0.5920\n",
            "Epoch 29/30\n",
            "200/200 [==============================] - 2s 8ms/step - loss: 1.3309 - accuracy: 0.5201 - val_loss: 1.2663 - val_accuracy: 0.5433\n",
            "Epoch 30/30\n",
            "200/200 [==============================] - 2s 8ms/step - loss: 1.3296 - accuracy: 0.5219 - val_loss: 1.1874 - val_accuracy: 0.6041\n"
          ],
          "name": "stdout"
        }
      ]
    },
    {
      "cell_type": "code",
      "metadata": {
        "colab": {
          "base_uri": "https://localhost:8080/",
          "height": 313
        },
        "id": "ZCqtYZgPirdn",
        "outputId": "72137c7c-798d-42b8-806a-b889d0f60a03"
      },
      "source": [
        "plt.plot(history.history['accuracy'], label='accuracy')\n",
        "plt.plot(history.history['val_accuracy'], label = 'val_accuracy')\n",
        "plt.title('Training and Validation Accuracy')\n",
        "plt.xlabel('Epoch')\n",
        "plt.ylabel('Accuracy')\n",
        "plt.legend(loc='upper left')"
      ],
      "execution_count": null,
      "outputs": [
        {
          "output_type": "execute_result",
          "data": {
            "text/plain": [
              "<matplotlib.legend.Legend at 0x7fe47acffb00>"
            ]
          },
          "metadata": {
            "tags": []
          },
          "execution_count": 119
        },
        {
          "output_type": "display_data",
          "data": {
            "image/png": "[encoded data removed]",
            "text/plain": [
              "<Figure size 432x288 with 1 Axes>"
            ]
          },
          "metadata": {
            "tags": [],
            "needs_background": "light"
          }
        }
      ]
    },
    {
      "cell_type": "code",
      "metadata": {
        "colab": {
          "base_uri": "https://localhost:8080/",
          "height": 313
        },
        "id": "kdyIWtAVi1cE",
        "outputId": "898f8ee9-12a5-4db1-9332-0a5e691fa460"
      },
      "source": [
        "plt.plot(history.history['loss'])\n",
        "plt.plot(history.history['val_loss'])\n",
        "plt.title('Training and Validation Loss')\n",
        "plt.xlabel('Epoch')\n",
        "plt.ylabel('Loss')\n",
        "plt.legend(['loss', 'val_loss'], loc='upper right')"
      ],
      "execution_count": null,
      "outputs": [
        {
          "output_type": "execute_result",
          "data": {
            "text/plain": [
              "<matplotlib.legend.Legend at 0x7fe3ed8f74a8>"
            ]
          },
          "metadata": {
            "tags": []
          },
          "execution_count": 120
        },
        {
          "output_type": "display_data",
          "data": {
            "image/png": "[encoded data removed]",
            "text/plain": [
              "<Figure size 432x288 with 1 Axes>"
            ]
          },
          "metadata": {
            "tags": [],
            "needs_background": "light"
          }
        }
      ]
    },
    {
      "cell_type": "markdown",
      "metadata": {
        "id": "lCm8A30Pzvzk"
      },
      "source": [
        "The example above shows us underfitting model. This time, the loss is higher than value loss. In the graph above, it is visible that the yellow line is going down. The model has to be improved now."
      ]
    },
    {
      "cell_type": "markdown",
      "metadata": {
        "id": "p9_rekmm0IjT"
      },
      "source": [
        "Test 3/5:"
      ]
    },
    {
      "cell_type": "markdown",
      "metadata": {
        "id": "sRvpPzJecoBF"
      },
      "source": [
        "Adding more layers to my model to fix underfitting that was achieved in the graph above. This time experimenting with 128 batch size and 30 epochs."
      ]
    },
    {
      "cell_type": "code",
      "metadata": {
        "colab": {
          "base_uri": "https://localhost:8080/"
        },
        "id": "0td2PqCuRK3d",
        "outputId": "f7274dc4-b25e-4bd4-9564-6528f0790991"
      },
      "source": [
        "model = Sequential()\n",
        "model.add(Conv2D(filters=32, kernel_size=(3,3), padding='same', input_shape=(32,32,3)))\n",
        "model.add(BatchNormalization())\n",
        "model.add(Conv2D(filters=32, kernel_size=(3,3),activation='relu'))\n",
        "model.add(MaxPool2D(2,2))\n",
        "model.add(Dropout(0.5))\n",
        "\n",
        "model.add(Conv2D(filters=64, kernel_size=(3,3),activation='relu'))\n",
        "model.add(BatchNormalization())\n",
        "model.add(Conv2D(filters=64, kernel_size=(3,3),activation='relu'))\n",
        "model.add(MaxPool2D(2,2))\n",
        "model.add(Dropout(0.5))\n",
        "\n",
        "model.add(Conv2D(filters=128, kernel_size=(3,3),activation='relu'))\n",
        "model.add(BatchNormalization())\n",
        "model.add(Conv2D(filters=128, kernel_size=(3,3),activation='relu'))\n",
        "model.add(MaxPool2D(1,1))\n",
        "model.add(Dropout(0.5))\n",
        "\n",
        "model.add(Flatten())\n",
        "model.add(Dense(10, activation='softmax'))\n",
        "model.compile(optimizer='adam', loss='categorical_crossentropy', metrics=['accuracy'])\n",
        "print(model.summary())"
      ],
      "execution_count": null,
      "outputs": [
        {
          "output_type": "stream",
          "text": [
            "Model: \"sequential_158\"\n",
            "_________________________________________________________________\n",
            "Layer (type)                 Output Shape              Param #   \n",
            "=================================================================\n",
            "conv2d_554 (Conv2D)          (None, 32, 32, 32)        896       \n",
            "_________________________________________________________________\n",
            "batch_normalization_295 (Bat (None, 32, 32, 32)        128       \n",
            "_________________________________________________________________\n",
            "conv2d_555 (Conv2D)          (None, 30, 30, 32)        9248      \n",
            "_________________________________________________________________\n",
            "max_pooling2d_275 (MaxPoolin (None, 15, 15, 32)        0         \n",
            "_________________________________________________________________\n",
            "dropout_298 (Dropout)        (None, 15, 15, 32)        0         \n",
            "_________________________________________________________________\n",
            "conv2d_556 (Conv2D)          (None, 13, 13, 64)        18496     \n",
            "_________________________________________________________________\n",
            "batch_normalization_296 (Bat (None, 13, 13, 64)        256       \n",
            "_________________________________________________________________\n",
            "conv2d_557 (Conv2D)          (None, 11, 11, 64)        36928     \n",
            "_________________________________________________________________\n",
            "max_pooling2d_276 (MaxPoolin (None, 5, 5, 64)          0         \n",
            "_________________________________________________________________\n",
            "dropout_299 (Dropout)        (None, 5, 5, 64)          0         \n",
            "_________________________________________________________________\n",
            "conv2d_558 (Conv2D)          (None, 3, 3, 128)         73856     \n",
            "_________________________________________________________________\n",
            "batch_normalization_297 (Bat (None, 3, 3, 128)         512       \n",
            "_________________________________________________________________\n",
            "conv2d_559 (Conv2D)          (None, 1, 1, 128)         147584    \n",
            "_________________________________________________________________\n",
            "max_pooling2d_277 (MaxPoolin (None, 1, 1, 128)         0         \n",
            "_________________________________________________________________\n",
            "dropout_300 (Dropout)        (None, 1, 1, 128)         0         \n",
            "_________________________________________________________________\n",
            "flatten_108 (Flatten)        (None, 128)               0         \n",
            "_________________________________________________________________\n",
            "dense_175 (Dense)            (None, 10)                1290      \n",
            "=================================================================\n",
            "Total params: 289,194\n",
            "Trainable params: 288,746\n",
            "Non-trainable params: 448\n",
            "_________________________________________________________________\n",
            "None\n"
          ],
          "name": "stdout"
        }
      ]
    },
    {
      "cell_type": "code",
      "metadata": {
        "id": "kHY_478RyGpu"
      },
      "source": [
        ""
      ],
      "execution_count": null,
      "outputs": []
    },
    {
      "cell_type": "code",
      "metadata": {
        "colab": {
          "base_uri": "https://localhost:8080/"
        },
        "id": "rK-bzUcPTZKa",
        "outputId": "48637cbe-4250-48f0-d25e-8e5ed68ee71e"
      },
      "source": [
        "history = model.fit(x_train, y_train, batch_size=128, epochs=40, verbose=1, validation_data=(x_test, y_test))"
      ],
      "execution_count": null,
      "outputs": [
        {
          "output_type": "stream",
          "text": [
            "Epoch 1/40\n",
            "391/391 [==============================] - 5s 12ms/step - loss: 1.8260 - accuracy: 0.3477 - val_loss: 2.5649 - val_accuracy: 0.2569\n",
            "Epoch 2/40\n",
            "391/391 [==============================] - 4s 11ms/step - loss: 1.4136 - accuracy: 0.4915 - val_loss: 1.2527 - val_accuracy: 0.5550\n",
            "Epoch 3/40\n",
            "391/391 [==============================] - 4s 11ms/step - loss: 1.2577 - accuracy: 0.5532 - val_loss: 1.2455 - val_accuracy: 0.5659\n",
            "Epoch 4/40\n",
            "391/391 [==============================] - 4s 11ms/step - loss: 1.1544 - accuracy: 0.5926 - val_loss: 1.1624 - val_accuracy: 0.5936\n",
            "Epoch 5/40\n",
            "391/391 [==============================] - 4s 11ms/step - loss: 1.0863 - accuracy: 0.6154 - val_loss: 1.0093 - val_accuracy: 0.6503\n",
            "Epoch 6/40\n",
            "391/391 [==============================] - 4s 11ms/step - loss: 1.0226 - accuracy: 0.6399 - val_loss: 0.9759 - val_accuracy: 0.6612\n",
            "Epoch 7/40\n",
            "391/391 [==============================] - 4s 11ms/step - loss: 0.9742 - accuracy: 0.6594 - val_loss: 0.9051 - val_accuracy: 0.6884\n",
            "Epoch 8/40\n",
            "391/391 [==============================] - 4s 11ms/step - loss: 0.9314 - accuracy: 0.6753 - val_loss: 0.8457 - val_accuracy: 0.7047\n",
            "Epoch 9/40\n",
            "391/391 [==============================] - 4s 11ms/step - loss: 0.8962 - accuracy: 0.6879 - val_loss: 0.8877 - val_accuracy: 0.6953\n",
            "Epoch 10/40\n",
            "391/391 [==============================] - 4s 11ms/step - loss: 0.8667 - accuracy: 0.6973 - val_loss: 0.8425 - val_accuracy: 0.7112\n",
            "Epoch 11/40\n",
            "391/391 [==============================] - 4s 11ms/step - loss: 0.8431 - accuracy: 0.7062 - val_loss: 0.8521 - val_accuracy: 0.7060\n",
            "Epoch 12/40\n",
            "391/391 [==============================] - 4s 11ms/step - loss: 0.8270 - accuracy: 0.7127 - val_loss: 0.7798 - val_accuracy: 0.7301\n",
            "Epoch 13/40\n",
            "391/391 [==============================] - 4s 11ms/step - loss: 0.8028 - accuracy: 0.7224 - val_loss: 0.7271 - val_accuracy: 0.7458\n",
            "Epoch 14/40\n",
            "391/391 [==============================] - 4s 11ms/step - loss: 0.7863 - accuracy: 0.7302 - val_loss: 0.7120 - val_accuracy: 0.7575\n",
            "Epoch 15/40\n",
            "391/391 [==============================] - 4s 11ms/step - loss: 0.7739 - accuracy: 0.7335 - val_loss: 0.7397 - val_accuracy: 0.7462\n",
            "Epoch 16/40\n",
            "391/391 [==============================] - 4s 11ms/step - loss: 0.7591 - accuracy: 0.7382 - val_loss: 0.7101 - val_accuracy: 0.7569\n",
            "Epoch 17/40\n",
            "391/391 [==============================] - 4s 11ms/step - loss: 0.7459 - accuracy: 0.7416 - val_loss: 0.6488 - val_accuracy: 0.7780\n",
            "Epoch 18/40\n",
            "391/391 [==============================] - 4s 11ms/step - loss: 0.7339 - accuracy: 0.7459 - val_loss: 0.6351 - val_accuracy: 0.7836\n",
            "Epoch 19/40\n",
            "391/391 [==============================] - 4s 11ms/step - loss: 0.7261 - accuracy: 0.7486 - val_loss: 0.6117 - val_accuracy: 0.7892\n",
            "Epoch 20/40\n",
            "391/391 [==============================] - 4s 11ms/step - loss: 0.7143 - accuracy: 0.7529 - val_loss: 0.6206 - val_accuracy: 0.7924\n",
            "Epoch 21/40\n",
            "391/391 [==============================] - 4s 11ms/step - loss: 0.7005 - accuracy: 0.7593 - val_loss: 0.6249 - val_accuracy: 0.7865\n",
            "Epoch 22/40\n",
            "391/391 [==============================] - 4s 11ms/step - loss: 0.6991 - accuracy: 0.7582 - val_loss: 0.6384 - val_accuracy: 0.7886\n",
            "Epoch 23/40\n",
            "391/391 [==============================] - 4s 11ms/step - loss: 0.6941 - accuracy: 0.7614 - val_loss: 0.6958 - val_accuracy: 0.7624\n",
            "Epoch 24/40\n",
            "391/391 [==============================] - 4s 11ms/step - loss: 0.6839 - accuracy: 0.7626 - val_loss: 0.6501 - val_accuracy: 0.7818\n",
            "Epoch 25/40\n",
            "391/391 [==============================] - 4s 11ms/step - loss: 0.6681 - accuracy: 0.7683 - val_loss: 0.7512 - val_accuracy: 0.7583\n",
            "Epoch 26/40\n",
            "391/391 [==============================] - 4s 11ms/step - loss: 0.6709 - accuracy: 0.7690 - val_loss: 0.6815 - val_accuracy: 0.7725\n",
            "Epoch 27/40\n",
            "391/391 [==============================] - 4s 11ms/step - loss: 0.6580 - accuracy: 0.7731 - val_loss: 0.7396 - val_accuracy: 0.7599\n",
            "Epoch 28/40\n",
            "391/391 [==============================] - 4s 11ms/step - loss: 0.6571 - accuracy: 0.7728 - val_loss: 0.6114 - val_accuracy: 0.7938\n",
            "Epoch 29/40\n",
            "391/391 [==============================] - 4s 11ms/step - loss: 0.6461 - accuracy: 0.7764 - val_loss: 0.6220 - val_accuracy: 0.7926\n",
            "Epoch 30/40\n",
            "391/391 [==============================] - 4s 11ms/step - loss: 0.6483 - accuracy: 0.7778 - val_loss: 0.5820 - val_accuracy: 0.8062\n",
            "Epoch 31/40\n",
            "391/391 [==============================] - 4s 11ms/step - loss: 0.6371 - accuracy: 0.7811 - val_loss: 0.6474 - val_accuracy: 0.7826\n",
            "Epoch 32/40\n",
            "391/391 [==============================] - 5s 12ms/step - loss: 0.6358 - accuracy: 0.7809 - val_loss: 0.6780 - val_accuracy: 0.7787\n",
            "Epoch 33/40\n",
            "391/391 [==============================] - 4s 11ms/step - loss: 0.6266 - accuracy: 0.7831 - val_loss: 0.5943 - val_accuracy: 0.8014\n",
            "Epoch 34/40\n",
            "391/391 [==============================] - 4s 11ms/step - loss: 0.6287 - accuracy: 0.7841 - val_loss: 0.6271 - val_accuracy: 0.7911\n",
            "Epoch 35/40\n",
            "391/391 [==============================] - 4s 11ms/step - loss: 0.6220 - accuracy: 0.7863 - val_loss: 0.6190 - val_accuracy: 0.7950\n",
            "Epoch 36/40\n",
            "391/391 [==============================] - 4s 11ms/step - loss: 0.6167 - accuracy: 0.7866 - val_loss: 0.5718 - val_accuracy: 0.8089\n",
            "Epoch 37/40\n",
            "391/391 [==============================] - 4s 11ms/step - loss: 0.6123 - accuracy: 0.7896 - val_loss: 0.5981 - val_accuracy: 0.7992\n",
            "Epoch 38/40\n",
            "391/391 [==============================] - 4s 11ms/step - loss: 0.6116 - accuracy: 0.7877 - val_loss: 0.6604 - val_accuracy: 0.7812\n",
            "Epoch 39/40\n",
            "391/391 [==============================] - 4s 11ms/step - loss: 0.6072 - accuracy: 0.7922 - val_loss: 0.5767 - val_accuracy: 0.8040\n",
            "Epoch 40/40\n",
            "391/391 [==============================] - 4s 11ms/step - loss: 0.6049 - accuracy: 0.7915 - val_loss: 0.6106 - val_accuracy: 0.7993\n"
          ],
          "name": "stdout"
        }
      ]
    },
    {
      "cell_type": "code",
      "metadata": {
        "colab": {
          "base_uri": "https://localhost:8080/",
          "height": 313
        },
        "id": "Wq1PTb9DYo9E",
        "outputId": "17296773-8e60-4d18-de34-1ae8ad4582f9"
      },
      "source": [
        "plt.plot(history.history['accuracy'], label='accuracy')\n",
        "plt.plot(history.history['val_accuracy'], label = 'val_accuracy')\n",
        "plt.title('Training and Validation Accuracy')\n",
        "plt.xlabel('Epoch')\n",
        "plt.ylabel('Accuracy')\n",
        "plt.legend(loc='upper left')"
      ],
      "execution_count": null,
      "outputs": [
        {
          "output_type": "execute_result",
          "data": {
            "text/plain": [
              "<matplotlib.legend.Legend at 0x7fe47b4b5f28>"
            ]
          },
          "metadata": {
            "tags": []
          },
          "execution_count": 382
        },
        {
          "output_type": "display_data",
          "data": {
            "image/png": "[encoded data removed]",
            "text/plain": [
              "<Figure size 432x288 with 1 Axes>"
            ]
          },
          "metadata": {
            "tags": [],
            "needs_background": "light"
          }
        }
      ]
    },
    {
      "cell_type": "code",
      "metadata": {
        "colab": {
          "base_uri": "https://localhost:8080/",
          "height": 313
        },
        "id": "kWng1thDYtRe",
        "outputId": "85a43d83-c4cd-4da8-f095-20fe35499cf5"
      },
      "source": [
        "plt.plot(history.history['loss'])\n",
        "plt.plot(history.history['val_loss'])\n",
        "plt.title('Training and Validation Loss')\n",
        "plt.xlabel('Epoch')\n",
        "plt.ylabel('Loss')\n",
        "plt.legend(['loss', 'val_loss'], loc='upper right')"
      ],
      "execution_count": null,
      "outputs": [
        {
          "output_type": "execute_result",
          "data": {
            "text/plain": [
              "<matplotlib.legend.Legend at 0x7fe47b41e940>"
            ]
          },
          "metadata": {
            "tags": []
          },
          "execution_count": 383
        },
        {
          "output_type": "display_data",
          "data": {
            "image/png": "[encoded data removed]",
            "text/plain": [
              "<Figure size 432x288 with 1 Axes>"
            ]
          },
          "metadata": {
            "tags": [],
            "needs_background": "light"
          }
        }
      ]
    },
    {
      "cell_type": "markdown",
      "metadata": {
        "id": "VWS0kL6VfE0U"
      },
      "source": [
        "In this graph, better results are seen but improvements are needeed to get a better accuracy."
      ]
    },
    {
      "cell_type": "markdown",
      "metadata": {
        "id": "woU2uFEOzaeh"
      },
      "source": [
        "Test 4/5:\n"
      ]
    },
    {
      "cell_type": "markdown",
      "metadata": {
        "id": "jkjaCtnTf1CL"
      },
      "source": [
        "Improving the model to achieve better accuracy. Adding another Dense layer. Batch size is decresed from 128 to 64 and 40 epochs."
      ]
    },
    {
      "cell_type": "code",
      "metadata": {
        "colab": {
          "base_uri": "https://localhost:8080/"
        },
        "id": "Xo6Scf3mYbPD",
        "outputId": "0e91a41a-ad4e-4735-cd78-7a7c9cc3b789"
      },
      "source": [
        "model = Sequential()\n",
        "model.add(Conv2D(filters=32, kernel_size=(3,3), padding='same', activation='relu', input_shape=(32,32,3)))\n",
        "model.add(BatchNormalization())\n",
        "model.add(Conv2D(filters=32, kernel_size=(3,3), activation='relu'))\n",
        "model.add(BatchNormalization())\n",
        "model.add(MaxPool2D(2,2))\n",
        "model.add(Dropout(0.4))\n",
        "\n",
        "model.add(Conv2D(filters=64, kernel_size=(3,3), padding = 'same', activation='relu', input_shape=(32,32,3)))\n",
        "model.add(BatchNormalization())\n",
        "model.add(Conv2D(filters=64, kernel_size=(3,3), activation='relu'))\n",
        "model.add(BatchNormalization())\n",
        "model.add(MaxPool2D(2,2))\n",
        "model.add(Dropout(0.4))\n",
        "\n",
        "model.add(Conv2D(filters=128, kernel_size=(3,3), padding='same', activation='relu', input_shape=(32,32,3)))\n",
        "model.add(BatchNormalization())\n",
        "model.add(Conv2D(filters=128, kernel_size=(3,3), activation='relu'))\n",
        "model.add(BatchNormalization())\n",
        "model.add(MaxPool2D(2,2))\n",
        "model.add(Dropout(0.4))\n",
        "model.add(Flatten())\n",
        "model.add(Dense(512, activation='relu'))\n",
        "model.add(Dropout(0.5))\n",
        "model.add(Dense(10, activation='softmax'))\n",
        "model.compile(optimizer='adam', loss='categorical_crossentropy', metrics=['accuracy'])\n",
        "print(model.summary())"
      ],
      "execution_count": null,
      "outputs": [
        {
          "output_type": "stream",
          "text": [
            "Model: \"sequential_8\"\n",
            "_________________________________________________________________\n",
            "Layer (type)                 Output Shape              Param #   \n",
            "=================================================================\n",
            "conv2d_48 (Conv2D)           (None, 32, 32, 32)        896       \n",
            "_________________________________________________________________\n",
            "batch_normalization_37 (Batc (None, 32, 32, 32)        128       \n",
            "_________________________________________________________________\n",
            "conv2d_49 (Conv2D)           (None, 30, 30, 32)        9248      \n",
            "_________________________________________________________________\n",
            "batch_normalization_38 (Batc (None, 30, 30, 32)        128       \n",
            "_________________________________________________________________\n",
            "max_pooling2d_24 (MaxPooling (None, 15, 15, 32)        0         \n",
            "_________________________________________________________________\n",
            "dropout_27 (Dropout)         (None, 15, 15, 32)        0         \n",
            "_________________________________________________________________\n",
            "conv2d_50 (Conv2D)           (None, 15, 15, 64)        18496     \n",
            "_________________________________________________________________\n",
            "batch_normalization_39 (Batc (None, 15, 15, 64)        256       \n",
            "_________________________________________________________________\n",
            "conv2d_51 (Conv2D)           (None, 13, 13, 64)        36928     \n",
            "_________________________________________________________________\n",
            "batch_normalization_40 (Batc (None, 13, 13, 64)        256       \n",
            "_________________________________________________________________\n",
            "max_pooling2d_25 (MaxPooling (None, 6, 6, 64)          0         \n",
            "_________________________________________________________________\n",
            "dropout_28 (Dropout)         (None, 6, 6, 64)          0         \n",
            "_________________________________________________________________\n",
            "conv2d_52 (Conv2D)           (None, 6, 6, 128)         73856     \n",
            "_________________________________________________________________\n",
            "batch_normalization_41 (Batc (None, 6, 6, 128)         512       \n",
            "_________________________________________________________________\n",
            "conv2d_53 (Conv2D)           (None, 4, 4, 128)         147584    \n",
            "_________________________________________________________________\n",
            "batch_normalization_42 (Batc (None, 4, 4, 128)         512       \n",
            "_________________________________________________________________\n",
            "max_pooling2d_26 (MaxPooling (None, 2, 2, 128)         0         \n",
            "_________________________________________________________________\n",
            "dropout_29 (Dropout)         (None, 2, 2, 128)         0         \n",
            "_________________________________________________________________\n",
            "flatten_8 (Flatten)          (None, 512)               0         \n",
            "_________________________________________________________________\n",
            "dense_11 (Dense)             (None, 512)               262656    \n",
            "_________________________________________________________________\n",
            "dropout_30 (Dropout)         (None, 512)               0         \n",
            "_________________________________________________________________\n",
            "dense_12 (Dense)             (None, 10)                5130      \n",
            "=================================================================\n",
            "Total params: 556,586\n",
            "Trainable params: 555,690\n",
            "Non-trainable params: 896\n",
            "_________________________________________________________________\n",
            "None\n"
          ],
          "name": "stdout"
        }
      ]
    },
    {
      "cell_type": "code",
      "metadata": {
        "colab": {
          "base_uri": "https://localhost:8080/"
        },
        "id": "wcG6CeemYm3j",
        "outputId": "e59e1d63-e4b3-4fb1-def4-f8efc7840598"
      },
      "source": [
        "history = model.fit(x_train, y_train, batch_size=64, epochs=40, verbose=1, validation_data=(x_test, y_test))"
      ],
      "execution_count": null,
      "outputs": [
        {
          "output_type": "stream",
          "text": [
            "Epoch 1/40\n",
            "782/782 [==============================] - 7s 9ms/step - loss: 1.6961 - accuracy: 0.4023 - val_loss: 1.4385 - val_accuracy: 0.5052\n",
            "Epoch 2/40\n",
            "782/782 [==============================] - 7s 8ms/step - loss: 1.2200 - accuracy: 0.5653 - val_loss: 0.9978 - val_accuracy: 0.6457\n",
            "Epoch 3/40\n",
            "782/782 [==============================] - 7s 8ms/step - loss: 1.0448 - accuracy: 0.6343 - val_loss: 0.8438 - val_accuracy: 0.7031\n",
            "Epoch 4/40\n",
            "782/782 [==============================] - 7s 8ms/step - loss: 0.9379 - accuracy: 0.6733 - val_loss: 0.8097 - val_accuracy: 0.7140\n",
            "Epoch 5/40\n",
            "782/782 [==============================] - 6s 8ms/step - loss: 0.8697 - accuracy: 0.6980 - val_loss: 0.8924 - val_accuracy: 0.6945\n",
            "Epoch 6/40\n",
            "782/782 [==============================] - 6s 8ms/step - loss: 0.8139 - accuracy: 0.7193 - val_loss: 0.7259 - val_accuracy: 0.7524\n",
            "Epoch 7/40\n",
            "782/782 [==============================] - 6s 8ms/step - loss: 0.7673 - accuracy: 0.7363 - val_loss: 0.6373 - val_accuracy: 0.7799\n",
            "Epoch 8/40\n",
            "782/782 [==============================] - 7s 8ms/step - loss: 0.7300 - accuracy: 0.7491 - val_loss: 0.6187 - val_accuracy: 0.7907\n",
            "Epoch 9/40\n",
            "782/782 [==============================] - 7s 8ms/step - loss: 0.6982 - accuracy: 0.7600 - val_loss: 0.6082 - val_accuracy: 0.7945\n",
            "Epoch 10/40\n",
            "782/782 [==============================] - 7s 9ms/step - loss: 0.6723 - accuracy: 0.7707 - val_loss: 0.6066 - val_accuracy: 0.7908\n",
            "Epoch 11/40\n",
            "782/782 [==============================] - 7s 8ms/step - loss: 0.6446 - accuracy: 0.7797 - val_loss: 0.5920 - val_accuracy: 0.7972\n",
            "Epoch 12/40\n",
            "782/782 [==============================] - 6s 8ms/step - loss: 0.6239 - accuracy: 0.7851 - val_loss: 0.6867 - val_accuracy: 0.7605\n",
            "Epoch 13/40\n",
            "782/782 [==============================] - 6s 8ms/step - loss: 0.6040 - accuracy: 0.7941 - val_loss: 0.5937 - val_accuracy: 0.8003\n",
            "Epoch 14/40\n",
            "782/782 [==============================] - 7s 8ms/step - loss: 0.5837 - accuracy: 0.8006 - val_loss: 0.6478 - val_accuracy: 0.7857\n",
            "Epoch 15/40\n",
            "782/782 [==============================] - 7s 8ms/step - loss: 0.5732 - accuracy: 0.8050 - val_loss: 0.6189 - val_accuracy: 0.7894\n",
            "Epoch 16/40\n",
            "782/782 [==============================] - 7s 8ms/step - loss: 0.5514 - accuracy: 0.8124 - val_loss: 0.5381 - val_accuracy: 0.8196\n",
            "Epoch 17/40\n",
            "782/782 [==============================] - 7s 8ms/step - loss: 0.5430 - accuracy: 0.8132 - val_loss: 0.5815 - val_accuracy: 0.8026\n",
            "Epoch 18/40\n",
            "782/782 [==============================] - 6s 8ms/step - loss: 0.5308 - accuracy: 0.8184 - val_loss: 0.5229 - val_accuracy: 0.8223\n",
            "Epoch 19/40\n",
            "782/782 [==============================] - 7s 8ms/step - loss: 0.5149 - accuracy: 0.8218 - val_loss: 0.5211 - val_accuracy: 0.8266\n",
            "Epoch 20/40\n",
            "782/782 [==============================] - 7s 8ms/step - loss: 0.5068 - accuracy: 0.8257 - val_loss: 0.4721 - val_accuracy: 0.8419\n",
            "Epoch 21/40\n",
            "782/782 [==============================] - 7s 8ms/step - loss: 0.4945 - accuracy: 0.8292 - val_loss: 0.4949 - val_accuracy: 0.8329\n",
            "Epoch 22/40\n",
            "782/782 [==============================] - 7s 8ms/step - loss: 0.4875 - accuracy: 0.8323 - val_loss: 0.4911 - val_accuracy: 0.8364\n",
            "Epoch 23/40\n",
            "782/782 [==============================] - 7s 8ms/step - loss: 0.4721 - accuracy: 0.8379 - val_loss: 0.4969 - val_accuracy: 0.8343\n",
            "Epoch 24/40\n",
            "782/782 [==============================] - 7s 8ms/step - loss: 0.4648 - accuracy: 0.8388 - val_loss: 0.4787 - val_accuracy: 0.8380\n",
            "Epoch 25/40\n",
            "782/782 [==============================] - 7s 8ms/step - loss: 0.4531 - accuracy: 0.8426 - val_loss: 0.4888 - val_accuracy: 0.8406\n",
            "Epoch 26/40\n",
            "782/782 [==============================] - 7s 8ms/step - loss: 0.4409 - accuracy: 0.8468 - val_loss: 0.5066 - val_accuracy: 0.8291\n",
            "Epoch 27/40\n",
            "782/782 [==============================] - 7s 8ms/step - loss: 0.4398 - accuracy: 0.8473 - val_loss: 0.4716 - val_accuracy: 0.8440\n",
            "Epoch 28/40\n",
            "782/782 [==============================] - 7s 8ms/step - loss: 0.4335 - accuracy: 0.8493 - val_loss: 0.4963 - val_accuracy: 0.8339\n",
            "Epoch 29/40\n",
            "782/782 [==============================] - 7s 8ms/step - loss: 0.4260 - accuracy: 0.8519 - val_loss: 0.4713 - val_accuracy: 0.8427\n",
            "Epoch 30/40\n",
            "782/782 [==============================] - 6s 8ms/step - loss: 0.4150 - accuracy: 0.8564 - val_loss: 0.4728 - val_accuracy: 0.8439\n",
            "Epoch 31/40\n",
            "782/782 [==============================] - 7s 8ms/step - loss: 0.4094 - accuracy: 0.8573 - val_loss: 0.4978 - val_accuracy: 0.8350\n",
            "Epoch 32/40\n",
            "782/782 [==============================] - 7s 8ms/step - loss: 0.4092 - accuracy: 0.8573 - val_loss: 0.5002 - val_accuracy: 0.8375\n",
            "Epoch 33/40\n",
            "782/782 [==============================] - 7s 8ms/step - loss: 0.4010 - accuracy: 0.8613 - val_loss: 0.4788 - val_accuracy: 0.8484\n",
            "Epoch 34/40\n",
            "782/782 [==============================] - 7s 8ms/step - loss: 0.3914 - accuracy: 0.8643 - val_loss: 0.5189 - val_accuracy: 0.8301\n",
            "Epoch 35/40\n",
            "782/782 [==============================] - 7s 8ms/step - loss: 0.3865 - accuracy: 0.8647 - val_loss: 0.5000 - val_accuracy: 0.8364\n",
            "Epoch 36/40\n",
            "782/782 [==============================] - 7s 8ms/step - loss: 0.3846 - accuracy: 0.8670 - val_loss: 0.4486 - val_accuracy: 0.8500\n",
            "Epoch 37/40\n",
            "782/782 [==============================] - 7s 8ms/step - loss: 0.3788 - accuracy: 0.8681 - val_loss: 0.4878 - val_accuracy: 0.8412\n",
            "Epoch 38/40\n",
            "782/782 [==============================] - 7s 8ms/step - loss: 0.3740 - accuracy: 0.8700 - val_loss: 0.4552 - val_accuracy: 0.8533\n",
            "Epoch 39/40\n",
            "782/782 [==============================] - 7s 8ms/step - loss: 0.3743 - accuracy: 0.8699 - val_loss: 0.4409 - val_accuracy: 0.8596\n",
            "Epoch 40/40\n",
            "782/782 [==============================] - 7s 8ms/step - loss: 0.3707 - accuracy: 0.8700 - val_loss: 0.4332 - val_accuracy: 0.8598\n"
          ],
          "name": "stdout"
        }
      ]
    },
    {
      "cell_type": "code",
      "metadata": {
        "colab": {
          "base_uri": "https://localhost:8080/",
          "height": 313
        },
        "id": "1HI0QIZjb2ZE",
        "outputId": "2571f692-eb19-4336-c009-53c05b6bf97b"
      },
      "source": [
        "plt.plot(history.history['accuracy'], label='accuracy')\n",
        "plt.plot(history.history['val_accuracy'], label = 'val_accuracy')\n",
        "plt.title('Training and Validation Accuracy')\n",
        "plt.xlabel('Epoch')\n",
        "plt.ylabel('Accuracy')\n",
        "plt.legend(loc='upper left')"
      ],
      "execution_count": null,
      "outputs": [
        {
          "output_type": "execute_result",
          "data": {
            "text/plain": [
              "<matplotlib.legend.Legend at 0x7f87a92c2f98>"
            ]
          },
          "metadata": {
            "tags": []
          },
          "execution_count": 38
        },
        {
          "output_type": "display_data",
          "data": {
            "image/png": "[encoded data removed]",
            "text/plain": [
              "<Figure size 432x288 with 1 Axes>"
            ]
          },
          "metadata": {
            "tags": [],
            "needs_background": "light"
          }
        }
      ]
    },
    {
      "cell_type": "code",
      "metadata": {
        "colab": {
          "base_uri": "https://localhost:8080/",
          "height": 313
        },
        "id": "HGNN7Fzrb-Hx",
        "outputId": "e206e55e-5823-4479-db9c-ea7a3acd9d8a"
      },
      "source": [
        "plt.plot(history.history['loss'])\n",
        "plt.plot(history.history['val_loss'])\n",
        "plt.title('Training and Validation Loss')\n",
        "plt.xlabel('Epoch')\n",
        "plt.ylabel('Loss')\n",
        "plt.legend(['loss', 'val_loss'], loc='upper right')"
      ],
      "execution_count": null,
      "outputs": [
        {
          "output_type": "execute_result",
          "data": {
            "text/plain": [
              "<matplotlib.legend.Legend at 0x7f87a937f9e8>"
            ]
          },
          "metadata": {
            "tags": []
          },
          "execution_count": 39
        },
        {
          "output_type": "display_data",
          "data": {
            "image/png": "[encoded data removed]",
            "text/plain": [
              "<Figure size 432x288 with 1 Axes>"
            ]
          },
          "metadata": {
            "tags": [],
            "needs_background": "light"
          }
        }
      ]
    },
    {
      "cell_type": "markdown",
      "metadata": {
        "id": "WQaJTlGNgJA3"
      },
      "source": [
        "The accuracy improved to around 80%, but the model starts to overfit at the end."
      ]
    },
    {
      "cell_type": "markdown",
      "metadata": {
        "id": "m_rmqWvHj_-4"
      },
      "source": [
        "Test 5/5:"
      ]
    },
    {
      "cell_type": "markdown",
      "metadata": {
        "id": "6uT-TNMejsTx"
      },
      "source": [
        "Few changes are made. Added more Dense layers, and modified my Conv2d layers. 256 batch size and 50 epochs are used for this training."
      ]
    },
    {
      "cell_type": "code",
      "metadata": {
        "colab": {
          "base_uri": "https://localhost:8080/"
        },
        "id": "ooqKOLq0jTzG",
        "outputId": "774453c6-1832-41e8-ae5f-f0ada8743120"
      },
      "source": [
        "model = Sequential()\n",
        "model.add(Conv2D(filters=32, kernel_size=(3,3), padding='same', activation='relu', input_shape=(32,32,3)))\n",
        "model.add(BatchNormalization())\n",
        "model.add(Conv2D(filters=32, kernel_size=(3,3), activation='relu'))\n",
        "model.add(BatchNormalization())\n",
        "model.add(MaxPool2D(2,2))\n",
        "model.add(Dropout(0.4))\n",
        "\n",
        "model.add(Conv2D(filters=64, kernel_size=(3,3), padding = 'same', activation='relu', input_shape=(32,32,3)))\n",
        "model.add(BatchNormalization())\n",
        "model.add(Conv2D(filters=64, kernel_size=(3,3), activation='relu'))\n",
        "model.add(BatchNormalization())\n",
        "model.add(MaxPool2D(2,2))\n",
        "model.add(Dropout(0.4))\n",
        "\n",
        "model.add(Conv2D(filters=64, kernel_size=(3,3), padding='same', activation='relu', input_shape=(32,32,3)))\n",
        "model.add(BatchNormalization())\n",
        "model.add(Conv2D(filters=64, kernel_size=(3,3), activation='relu'))\n",
        "model.add(BatchNormalization())\n",
        "model.add(MaxPool2D(2,2))\n",
        "model.add(Dropout(0.4))\n",
        "model.add(Flatten())\n",
        "model.add(Dense(512,activation='relu'))\n",
        "model.add(Dropout(0.5))\n",
        "model.add(Dense(128, activation='relu'))\n",
        "model.add(Dropout(0.4))\n",
        "model.add(Dense(128, activation='relu'))\n",
        "model.add(Dropout(0.4))\n",
        "model.add(Dense(10, activation='softmax'))\n",
        "model.compile(optimizer='adam', loss='categorical_crossentropy', metrics=['accuracy'])\n",
        "print(model.summary())"
      ],
      "execution_count": null,
      "outputs": [
        {
          "output_type": "stream",
          "text": [
            "Model: \"sequential_13\"\n",
            "_________________________________________________________________\n",
            "Layer (type)                 Output Shape              Param #   \n",
            "=================================================================\n",
            "conv2d_78 (Conv2D)           (None, 32, 32, 32)        896       \n",
            "_________________________________________________________________\n",
            "batch_normalization_61 (Batc (None, 32, 32, 32)        128       \n",
            "_________________________________________________________________\n",
            "conv2d_79 (Conv2D)           (None, 30, 30, 32)        9248      \n",
            "_________________________________________________________________\n",
            "batch_normalization_62 (Batc (None, 30, 30, 32)        128       \n",
            "_________________________________________________________________\n",
            "max_pooling2d_39 (MaxPooling (None, 15, 15, 32)        0         \n",
            "_________________________________________________________________\n",
            "dropout_48 (Dropout)         (None, 15, 15, 32)        0         \n",
            "_________________________________________________________________\n",
            "conv2d_80 (Conv2D)           (None, 15, 15, 64)        18496     \n",
            "_________________________________________________________________\n",
            "batch_normalization_63 (Batc (None, 15, 15, 64)        256       \n",
            "_________________________________________________________________\n",
            "conv2d_81 (Conv2D)           (None, 13, 13, 64)        36928     \n",
            "_________________________________________________________________\n",
            "batch_normalization_64 (Batc (None, 13, 13, 64)        256       \n",
            "_________________________________________________________________\n",
            "max_pooling2d_40 (MaxPooling (None, 6, 6, 64)          0         \n",
            "_________________________________________________________________\n",
            "dropout_49 (Dropout)         (None, 6, 6, 64)          0         \n",
            "_________________________________________________________________\n",
            "conv2d_82 (Conv2D)           (None, 6, 6, 64)          36928     \n",
            "_________________________________________________________________\n",
            "batch_normalization_65 (Batc (None, 6, 6, 64)          256       \n",
            "_________________________________________________________________\n",
            "conv2d_83 (Conv2D)           (None, 4, 4, 64)          36928     \n",
            "_________________________________________________________________\n",
            "batch_normalization_66 (Batc (None, 4, 4, 64)          256       \n",
            "_________________________________________________________________\n",
            "max_pooling2d_41 (MaxPooling (None, 2, 2, 64)          0         \n",
            "_________________________________________________________________\n",
            "dropout_50 (Dropout)         (None, 2, 2, 64)          0         \n",
            "_________________________________________________________________\n",
            "flatten_13 (Flatten)         (None, 256)               0         \n",
            "_________________________________________________________________\n",
            "dense_22 (Dense)             (None, 512)               131584    \n",
            "_________________________________________________________________\n",
            "dropout_51 (Dropout)         (None, 512)               0         \n",
            "_________________________________________________________________\n",
            "dense_23 (Dense)             (None, 128)               65664     \n",
            "_________________________________________________________________\n",
            "dropout_52 (Dropout)         (None, 128)               0         \n",
            "_________________________________________________________________\n",
            "dense_24 (Dense)             (None, 128)               16512     \n",
            "_________________________________________________________________\n",
            "dropout_53 (Dropout)         (None, 128)               0         \n",
            "_________________________________________________________________\n",
            "dense_25 (Dense)             (None, 10)                1290      \n",
            "=================================================================\n",
            "Total params: 355,754\n",
            "Trainable params: 355,114\n",
            "Non-trainable params: 640\n",
            "_________________________________________________________________\n",
            "None\n"
          ],
          "name": "stdout"
        }
      ]
    },
    {
      "cell_type": "code",
      "metadata": {
        "colab": {
          "base_uri": "https://localhost:8080/"
        },
        "id": "9fMRqmdljbwB",
        "outputId": "903e5cfa-e43d-4cf8-e7d5-784e2f425af9"
      },
      "source": [
        "history = model.fit(x_train, y_train, batch_size=256, epochs=50, verbose=1, validation_data=(x_test, y_test))"
      ],
      "execution_count": null,
      "outputs": [
        {
          "output_type": "stream",
          "text": [
            "Epoch 1/50\n",
            "196/196 [==============================] - 5s 25ms/step - loss: 2.1045 - accuracy: 0.2040 - val_loss: 2.7618 - val_accuracy: 0.1135\n",
            "Epoch 2/50\n",
            "196/196 [==============================] - 5s 23ms/step - loss: 1.7033 - accuracy: 0.3442 - val_loss: 2.7203 - val_accuracy: 0.1536\n",
            "Epoch 3/50\n",
            "196/196 [==============================] - 5s 23ms/step - loss: 1.5084 - accuracy: 0.4386 - val_loss: 1.6215 - val_accuracy: 0.4451\n",
            "Epoch 4/50\n",
            "196/196 [==============================] - 5s 23ms/step - loss: 1.3595 - accuracy: 0.5097 - val_loss: 1.6554 - val_accuracy: 0.4320\n",
            "Epoch 5/50\n",
            "196/196 [==============================] - 5s 23ms/step - loss: 1.2322 - accuracy: 0.5682 - val_loss: 1.0590 - val_accuracy: 0.6202\n",
            "Epoch 6/50\n",
            "196/196 [==============================] - 5s 23ms/step - loss: 1.1370 - accuracy: 0.6072 - val_loss: 1.0284 - val_accuracy: 0.6294\n",
            "Epoch 7/50\n",
            "196/196 [==============================] - 5s 23ms/step - loss: 1.0637 - accuracy: 0.6334 - val_loss: 1.0155 - val_accuracy: 0.6446\n",
            "Epoch 8/50\n",
            "196/196 [==============================] - 5s 23ms/step - loss: 1.0059 - accuracy: 0.6563 - val_loss: 0.9304 - val_accuracy: 0.6831\n",
            "Epoch 9/50\n",
            "196/196 [==============================] - 5s 23ms/step - loss: 0.9526 - accuracy: 0.6757 - val_loss: 0.8685 - val_accuracy: 0.6927\n",
            "Epoch 10/50\n",
            "196/196 [==============================] - 5s 23ms/step - loss: 0.9137 - accuracy: 0.6896 - val_loss: 0.8291 - val_accuracy: 0.7154\n",
            "Epoch 11/50\n",
            "196/196 [==============================] - 4s 23ms/step - loss: 0.8750 - accuracy: 0.7058 - val_loss: 0.8846 - val_accuracy: 0.7056\n",
            "Epoch 12/50\n",
            "196/196 [==============================] - 4s 23ms/step - loss: 0.8448 - accuracy: 0.7148 - val_loss: 0.8179 - val_accuracy: 0.7243\n",
            "Epoch 13/50\n",
            "196/196 [==============================] - 5s 23ms/step - loss: 0.8200 - accuracy: 0.7247 - val_loss: 0.7043 - val_accuracy: 0.7545\n",
            "Epoch 14/50\n",
            "196/196 [==============================] - 5s 23ms/step - loss: 0.7900 - accuracy: 0.7377 - val_loss: 0.7972 - val_accuracy: 0.7261\n",
            "Epoch 15/50\n",
            "196/196 [==============================] - 5s 23ms/step - loss: 0.7737 - accuracy: 0.7433 - val_loss: 0.7268 - val_accuracy: 0.7535\n",
            "Epoch 16/50\n",
            "196/196 [==============================] - 5s 23ms/step - loss: 0.7560 - accuracy: 0.7497 - val_loss: 0.6567 - val_accuracy: 0.7814\n",
            "Epoch 17/50\n",
            "196/196 [==============================] - 4s 23ms/step - loss: 0.7362 - accuracy: 0.7563 - val_loss: 0.7177 - val_accuracy: 0.7557\n",
            "Epoch 18/50\n",
            "196/196 [==============================] - 5s 23ms/step - loss: 0.7246 - accuracy: 0.7614 - val_loss: 0.6226 - val_accuracy: 0.7877\n",
            "Epoch 19/50\n",
            "196/196 [==============================] - 5s 23ms/step - loss: 0.7055 - accuracy: 0.7661 - val_loss: 0.6415 - val_accuracy: 0.7854\n",
            "Epoch 20/50\n",
            "196/196 [==============================] - 5s 23ms/step - loss: 0.6926 - accuracy: 0.7718 - val_loss: 0.6628 - val_accuracy: 0.7723\n",
            "Epoch 21/50\n",
            "196/196 [==============================] - 5s 23ms/step - loss: 0.6805 - accuracy: 0.7763 - val_loss: 0.6159 - val_accuracy: 0.7939\n",
            "Epoch 22/50\n",
            "196/196 [==============================] - 5s 23ms/step - loss: 0.6648 - accuracy: 0.7814 - val_loss: 0.6328 - val_accuracy: 0.7899\n",
            "Epoch 23/50\n",
            "196/196 [==============================] - 5s 23ms/step - loss: 0.6563 - accuracy: 0.7861 - val_loss: 0.5964 - val_accuracy: 0.7997\n",
            "Epoch 24/50\n",
            "196/196 [==============================] - 5s 23ms/step - loss: 0.6471 - accuracy: 0.7887 - val_loss: 0.6484 - val_accuracy: 0.7800\n",
            "Epoch 25/50\n",
            "196/196 [==============================] - 5s 23ms/step - loss: 0.6322 - accuracy: 0.7927 - val_loss: 0.5985 - val_accuracy: 0.8054\n",
            "Epoch 26/50\n",
            "196/196 [==============================] - 5s 23ms/step - loss: 0.6310 - accuracy: 0.7940 - val_loss: 0.6047 - val_accuracy: 0.7993\n",
            "Epoch 27/50\n",
            "196/196 [==============================] - 5s 23ms/step - loss: 0.6193 - accuracy: 0.7982 - val_loss: 0.5840 - val_accuracy: 0.8085\n",
            "Epoch 28/50\n",
            "196/196 [==============================] - 5s 23ms/step - loss: 0.6086 - accuracy: 0.8027 - val_loss: 0.5809 - val_accuracy: 0.8130\n",
            "Epoch 29/50\n",
            "196/196 [==============================] - 5s 23ms/step - loss: 0.6013 - accuracy: 0.8038 - val_loss: 0.6336 - val_accuracy: 0.7926\n",
            "Epoch 30/50\n",
            "196/196 [==============================] - 4s 23ms/step - loss: 0.5940 - accuracy: 0.8081 - val_loss: 0.5455 - val_accuracy: 0.8185\n",
            "Epoch 31/50\n",
            "196/196 [==============================] - 4s 23ms/step - loss: 0.5817 - accuracy: 0.8099 - val_loss: 0.5779 - val_accuracy: 0.8130\n",
            "Epoch 32/50\n",
            "196/196 [==============================] - 5s 23ms/step - loss: 0.5802 - accuracy: 0.8098 - val_loss: 0.5420 - val_accuracy: 0.8221\n",
            "Epoch 33/50\n",
            "196/196 [==============================] - 4s 23ms/step - loss: 0.5723 - accuracy: 0.8138 - val_loss: 0.5685 - val_accuracy: 0.8129\n",
            "Epoch 34/50\n",
            "196/196 [==============================] - 4s 23ms/step - loss: 0.5693 - accuracy: 0.8151 - val_loss: 0.5174 - val_accuracy: 0.8289\n",
            "Epoch 35/50\n",
            "196/196 [==============================] - 4s 23ms/step - loss: 0.5586 - accuracy: 0.8174 - val_loss: 0.6051 - val_accuracy: 0.8034\n",
            "Epoch 36/50\n",
            "196/196 [==============================] - 4s 23ms/step - loss: 0.5507 - accuracy: 0.8214 - val_loss: 0.6087 - val_accuracy: 0.8023\n",
            "Epoch 37/50\n",
            "196/196 [==============================] - 4s 23ms/step - loss: 0.5483 - accuracy: 0.8220 - val_loss: 0.5391 - val_accuracy: 0.8206\n",
            "Epoch 38/50\n",
            "196/196 [==============================] - 5s 23ms/step - loss: 0.5464 - accuracy: 0.8235 - val_loss: 0.5269 - val_accuracy: 0.8229\n",
            "Epoch 39/50\n",
            "196/196 [==============================] - 5s 23ms/step - loss: 0.5375 - accuracy: 0.8248 - val_loss: 0.5241 - val_accuracy: 0.8287\n",
            "Epoch 40/50\n",
            "196/196 [==============================] - 4s 23ms/step - loss: 0.5378 - accuracy: 0.8270 - val_loss: 0.5416 - val_accuracy: 0.8208\n",
            "Epoch 41/50\n",
            "196/196 [==============================] - 4s 23ms/step - loss: 0.5324 - accuracy: 0.8264 - val_loss: 0.5186 - val_accuracy: 0.8293\n",
            "Epoch 42/50\n",
            "196/196 [==============================] - 4s 23ms/step - loss: 0.5243 - accuracy: 0.8285 - val_loss: 0.5499 - val_accuracy: 0.8207\n",
            "Epoch 43/50\n",
            "196/196 [==============================] - 4s 23ms/step - loss: 0.5233 - accuracy: 0.8296 - val_loss: 0.6253 - val_accuracy: 0.8064\n",
            "Epoch 44/50\n",
            "196/196 [==============================] - 4s 23ms/step - loss: 0.5218 - accuracy: 0.8308 - val_loss: 0.5545 - val_accuracy: 0.8244\n",
            "Epoch 45/50\n",
            "196/196 [==============================] - 4s 23ms/step - loss: 0.5094 - accuracy: 0.8329 - val_loss: 0.5037 - val_accuracy: 0.8318\n",
            "Epoch 46/50\n",
            "196/196 [==============================] - 5s 23ms/step - loss: 0.5085 - accuracy: 0.8346 - val_loss: 0.5177 - val_accuracy: 0.8310\n",
            "Epoch 47/50\n",
            "196/196 [==============================] - 4s 23ms/step - loss: 0.5091 - accuracy: 0.8323 - val_loss: 0.5259 - val_accuracy: 0.8306\n",
            "Epoch 48/50\n",
            "196/196 [==============================] - 4s 23ms/step - loss: 0.5011 - accuracy: 0.8371 - val_loss: 0.4988 - val_accuracy: 0.8371\n",
            "Epoch 49/50\n",
            "196/196 [==============================] - 4s 23ms/step - loss: 0.5017 - accuracy: 0.8356 - val_loss: 0.5520 - val_accuracy: 0.8202\n",
            "Epoch 50/50\n",
            "196/196 [==============================] - 4s 23ms/step - loss: 0.4919 - accuracy: 0.8392 - val_loss: 0.4853 - val_accuracy: 0.8415\n"
          ],
          "name": "stdout"
        }
      ]
    },
    {
      "cell_type": "code",
      "metadata": {
        "colab": {
          "base_uri": "https://localhost:8080/",
          "height": 313
        },
        "id": "So75zrAAkYzk",
        "outputId": "fdeddd0d-8645-4607-cd08-ad2061ca32d0"
      },
      "source": [
        "plt.plot(history.history['accuracy'], label='accuracy')\n",
        "plt.plot(history.history['val_accuracy'], label = 'val_accuracy')\n",
        "plt.title('Training and Validation Accuracy')\n",
        "plt.xlabel('Epoch')\n",
        "plt.ylabel('Accuracy')\n",
        "plt.legend(loc='upper left')"
      ],
      "execution_count": null,
      "outputs": [
        {
          "output_type": "execute_result",
          "data": {
            "text/plain": [
              "<matplotlib.legend.Legend at 0x7f87a956e048>"
            ]
          },
          "metadata": {
            "tags": []
          },
          "execution_count": 57
        },
        {
          "output_type": "display_data",
          "data": {
            "image/png": "[encoded data removed]",
            "text/plain": [
              "<Figure size 432x288 with 1 Axes>"
            ]
          },
          "metadata": {
            "tags": [],
            "needs_background": "light"
          }
        }
      ]
    },
    {
      "cell_type": "code",
      "metadata": {
        "colab": {
          "base_uri": "https://localhost:8080/",
          "height": 313
        },
        "id": "WxdMw293lpis",
        "outputId": "3dfd0133-b615-49e3-fece-c656971ecb48"
      },
      "source": [
        "plt.plot(history.history['loss'])\n",
        "plt.plot(history.history['val_loss'])\n",
        "plt.title('Training and Validation Loss')\n",
        "plt.xlabel('Epoch')\n",
        "plt.ylabel('Loss')\n",
        "plt.legend(['loss', 'val_loss'], loc='upper right')"
      ],
      "execution_count": null,
      "outputs": [
        {
          "output_type": "execute_result",
          "data": {
            "text/plain": [
              "<matplotlib.legend.Legend at 0x7f87a47f3c88>"
            ]
          },
          "metadata": {
            "tags": []
          },
          "execution_count": 58
        },
        {
          "output_type": "display_data",
          "data": {
            "image/png": "[encoded data removed]",
            "text/plain": [
              "<Figure size 432x288 with 1 Axes>"
            ]
          },
          "metadata": {
            "tags": [],
            "needs_background": "light"
          }
        }
      ]
    },
    {
      "cell_type": "markdown",
      "metadata": {
        "id": "-0jmtS8BnYoY"
      },
      "source": [
        "This model managed to achieve +80% accuracy and fixed the overfitting problem.\n"
      ]
    },
    {
      "cell_type": "markdown",
      "metadata": {
        "id": "lIE8NHCOYNWy"
      },
      "source": [
        "Bonus test:\n",
        "This is the final test where I have experimented using L2 regularizer. It improved the training and validation loss, but not the accuracy of my model. Batch size and epochs number stays the same."
      ]
    },
    {
      "cell_type": "code",
      "metadata": {
        "colab": {
          "base_uri": "https://localhost:8080/"
        },
        "id": "IETZqY16K599",
        "outputId": "b5828159-3d9a-4bbc-e274-66ac95baaec1"
      },
      "source": [
        "model = Sequential()\n",
        "model.add(Conv2D(filters=32, kernel_size=(3,3), padding='same', activation='relu', input_shape=(32,32,3)))\n",
        "model.add(BatchNormalization())\n",
        "model.add(Conv2D(filters=32, kernel_size=(3,3), activation='relu'))\n",
        "model.add(BatchNormalization())\n",
        "model.add(MaxPool2D(2,2))\n",
        "model.add(Dropout(0.4))\n",
        "\n",
        "model.add(Conv2D(filters=64, kernel_size=(3,3), padding = 'same', activation='relu', input_shape=(32,32,3)))\n",
        "model.add(BatchNormalization())\n",
        "model.add(Conv2D(filters=64, kernel_size=(3,3),  activation='relu'))\n",
        "model.add(BatchNormalization())\n",
        "model.add(MaxPool2D(2,2))\n",
        "model.add(Dropout(0.4))\n",
        "\n",
        "model.add(Conv2D(filters=64, kernel_size=(3,3), padding='same', activation='relu', input_shape=(32,32,3)))\n",
        "model.add(BatchNormalization())\n",
        "model.add(Conv2D(filters=64, kernel_size=(3,3), activation='relu'))\n",
        "model.add(BatchNormalization())\n",
        "model.add(MaxPool2D(2,2))\n",
        "model.add(Dropout(0.4))\n",
        "model.add(Flatten())\n",
        "model.add(Dense(512, kernel_regularizer=regularizers.l1(0.001),activation='relu'))\n",
        "model.add(Dropout(0.5))\n",
        "model.add(Dense(128, kernel_regularizer=regularizers.l2(0.001), activation='relu'))\n",
        "model.add(Dropout(0.4))\n",
        "model.add(Dense(128, kernel_regularizer=regularizers.l2(0.001), activation='relu'))\n",
        "model.add(Dropout(0.4))\n",
        "model.add(Dense(10, activation='softmax'))\n",
        "model.compile(optimizer='adam', loss='categorical_crossentropy', metrics=['accuracy'])\n",
        "print(model.summary())\n",
        "history = model.fit(x_train, y_train, batch_size=256, epochs=50, verbose=1, validation_data=(x_test, y_test))"
      ],
      "execution_count": null,
      "outputs": [
        {
          "output_type": "stream",
          "text": [
            "Model: \"sequential_50\"\n",
            "_________________________________________________________________\n",
            "Layer (type)                 Output Shape              Param #   \n",
            "=================================================================\n",
            "conv2d_277 (Conv2D)          (None, 32, 32, 32)        896       \n",
            "_________________________________________________________________\n",
            "batch_normalization_260 (Bat (None, 32, 32, 32)        128       \n",
            "_________________________________________________________________\n",
            "conv2d_278 (Conv2D)          (None, 30, 30, 32)        9248      \n",
            "_________________________________________________________________\n",
            "batch_normalization_261 (Bat (None, 30, 30, 32)        128       \n",
            "_________________________________________________________________\n",
            "max_pooling2d_138 (MaxPoolin (None, 15, 15, 32)        0         \n",
            "_________________________________________________________________\n",
            "dropout_225 (Dropout)        (None, 15, 15, 32)        0         \n",
            "_________________________________________________________________\n",
            "conv2d_279 (Conv2D)          (None, 15, 15, 64)        18496     \n",
            "_________________________________________________________________\n",
            "batch_normalization_262 (Bat (None, 15, 15, 64)        256       \n",
            "_________________________________________________________________\n",
            "conv2d_280 (Conv2D)          (None, 13, 13, 64)        36928     \n",
            "_________________________________________________________________\n",
            "batch_normalization_263 (Bat (None, 13, 13, 64)        256       \n",
            "_________________________________________________________________\n",
            "max_pooling2d_139 (MaxPoolin (None, 6, 6, 64)          0         \n",
            "_________________________________________________________________\n",
            "dropout_226 (Dropout)        (None, 6, 6, 64)          0         \n",
            "_________________________________________________________________\n",
            "conv2d_281 (Conv2D)          (None, 6, 6, 64)          36928     \n",
            "_________________________________________________________________\n",
            "batch_normalization_264 (Bat (None, 6, 6, 64)          256       \n",
            "_________________________________________________________________\n",
            "conv2d_282 (Conv2D)          (None, 4, 4, 64)          36928     \n",
            "_________________________________________________________________\n",
            "batch_normalization_265 (Bat (None, 4, 4, 64)          256       \n",
            "_________________________________________________________________\n",
            "max_pooling2d_140 (MaxPoolin (None, 2, 2, 64)          0         \n",
            "_________________________________________________________________\n",
            "dropout_227 (Dropout)        (None, 2, 2, 64)          0         \n",
            "_________________________________________________________________\n",
            "flatten_46 (Flatten)         (None, 256)               0         \n",
            "_________________________________________________________________\n",
            "dense_132 (Dense)            (None, 512)               131584    \n",
            "_________________________________________________________________\n",
            "dropout_228 (Dropout)        (None, 512)               0         \n",
            "_________________________________________________________________\n",
            "dense_133 (Dense)            (None, 128)               65664     \n",
            "_________________________________________________________________\n",
            "dropout_229 (Dropout)        (None, 128)               0         \n",
            "_________________________________________________________________\n",
            "dense_134 (Dense)            (None, 128)               16512     \n",
            "_________________________________________________________________\n",
            "dropout_230 (Dropout)        (None, 128)               0         \n",
            "_________________________________________________________________\n",
            "dense_135 (Dense)            (None, 10)                1290      \n",
            "=================================================================\n",
            "Total params: 355,754\n",
            "Trainable params: 355,114\n",
            "Non-trainable params: 640\n",
            "_________________________________________________________________\n",
            "None\n",
            "Epoch 1/50\n",
            "196/196 [==============================] - 5s 25ms/step - loss: 5.4797 - accuracy: 0.2087 - val_loss: 3.6492 - val_accuracy: 0.1008\n",
            "Epoch 2/50\n",
            "196/196 [==============================] - 5s 24ms/step - loss: 2.2784 - accuracy: 0.3608 - val_loss: 2.9790 - val_accuracy: 0.1488\n",
            "Epoch 3/50\n",
            "196/196 [==============================] - 5s 24ms/step - loss: 1.8326 - accuracy: 0.4629 - val_loss: 2.0023 - val_accuracy: 0.4283\n",
            "Epoch 4/50\n",
            "196/196 [==============================] - 5s 24ms/step - loss: 1.6360 - accuracy: 0.5352 - val_loss: 1.6560 - val_accuracy: 0.5370\n",
            "Epoch 5/50\n",
            "196/196 [==============================] - 5s 24ms/step - loss: 1.4737 - accuracy: 0.5945 - val_loss: 1.5007 - val_accuracy: 0.5625\n",
            "Epoch 6/50\n",
            "196/196 [==============================] - 5s 24ms/step - loss: 1.3666 - accuracy: 0.6296 - val_loss: 1.2429 - val_accuracy: 0.6692\n",
            "Epoch 7/50\n",
            "196/196 [==============================] - 5s 23ms/step - loss: 1.2752 - accuracy: 0.6564 - val_loss: 1.2028 - val_accuracy: 0.6792\n",
            "Epoch 8/50\n",
            "196/196 [==============================] - 5s 23ms/step - loss: 1.2195 - accuracy: 0.6759 - val_loss: 1.1962 - val_accuracy: 0.6793\n",
            "Epoch 9/50\n",
            "196/196 [==============================] - 5s 23ms/step - loss: 1.1667 - accuracy: 0.6919 - val_loss: 1.1006 - val_accuracy: 0.7082\n",
            "Epoch 10/50\n",
            "196/196 [==============================] - 5s 23ms/step - loss: 1.1252 - accuracy: 0.7063 - val_loss: 1.2064 - val_accuracy: 0.6771\n",
            "Epoch 11/50\n",
            "196/196 [==============================] - 5s 24ms/step - loss: 1.0985 - accuracy: 0.7128 - val_loss: 1.2351 - val_accuracy: 0.6733\n",
            "Epoch 12/50\n",
            "196/196 [==============================] - 5s 24ms/step - loss: 1.0729 - accuracy: 0.7245 - val_loss: 0.9730 - val_accuracy: 0.7506\n",
            "Epoch 13/50\n",
            "196/196 [==============================] - 5s 24ms/step - loss: 1.0369 - accuracy: 0.7354 - val_loss: 0.9755 - val_accuracy: 0.7553\n",
            "Epoch 14/50\n",
            "196/196 [==============================] - 5s 24ms/step - loss: 1.0183 - accuracy: 0.7404 - val_loss: 1.0132 - val_accuracy: 0.7419\n",
            "Epoch 15/50\n",
            "196/196 [==============================] - 5s 24ms/step - loss: 1.0002 - accuracy: 0.7495 - val_loss: 0.9966 - val_accuracy: 0.7540\n",
            "Epoch 16/50\n",
            "196/196 [==============================] - 5s 24ms/step - loss: 0.9819 - accuracy: 0.7585 - val_loss: 0.9581 - val_accuracy: 0.7643\n",
            "Epoch 17/50\n",
            "196/196 [==============================] - 5s 24ms/step - loss: 0.9708 - accuracy: 0.7609 - val_loss: 0.9023 - val_accuracy: 0.7820\n",
            "Epoch 18/50\n",
            "196/196 [==============================] - 5s 24ms/step - loss: 0.9519 - accuracy: 0.7664 - val_loss: 0.9021 - val_accuracy: 0.7829\n",
            "Epoch 19/50\n",
            "196/196 [==============================] - 5s 24ms/step - loss: 0.9402 - accuracy: 0.7712 - val_loss: 1.0807 - val_accuracy: 0.7206\n",
            "Epoch 20/50\n",
            "196/196 [==============================] - 5s 24ms/step - loss: 0.9332 - accuracy: 0.7765 - val_loss: 0.9615 - val_accuracy: 0.7651\n",
            "Epoch 21/50\n",
            "196/196 [==============================] - 5s 24ms/step - loss: 0.9187 - accuracy: 0.7774 - val_loss: 0.9068 - val_accuracy: 0.7778\n",
            "Epoch 22/50\n",
            "196/196 [==============================] - 5s 24ms/step - loss: 0.8996 - accuracy: 0.7834 - val_loss: 1.0521 - val_accuracy: 0.7497\n",
            "Epoch 23/50\n",
            "196/196 [==============================] - 5s 23ms/step - loss: 0.8927 - accuracy: 0.7869 - val_loss: 0.8510 - val_accuracy: 0.7977\n",
            "Epoch 24/50\n",
            "196/196 [==============================] - 5s 23ms/step - loss: 0.8877 - accuracy: 0.7892 - val_loss: 0.8814 - val_accuracy: 0.7898\n",
            "Epoch 25/50\n",
            "196/196 [==============================] - 5s 24ms/step - loss: 0.8789 - accuracy: 0.7929 - val_loss: 0.9442 - val_accuracy: 0.7811\n",
            "Epoch 26/50\n",
            "196/196 [==============================] - 5s 24ms/step - loss: 0.8740 - accuracy: 0.7936 - val_loss: 0.8688 - val_accuracy: 0.7943\n",
            "Epoch 27/50\n",
            "196/196 [==============================] - 5s 23ms/step - loss: 0.8601 - accuracy: 0.7987 - val_loss: 0.8525 - val_accuracy: 0.8040\n",
            "Epoch 28/50\n",
            "196/196 [==============================] - 5s 24ms/step - loss: 0.8694 - accuracy: 0.7958 - val_loss: 0.8366 - val_accuracy: 0.8084\n",
            "Epoch 29/50\n",
            "196/196 [==============================] - 5s 23ms/step - loss: 0.8581 - accuracy: 0.8005 - val_loss: 0.8534 - val_accuracy: 0.7965\n",
            "Epoch 30/50\n",
            "196/196 [==============================] - 5s 23ms/step - loss: 0.8470 - accuracy: 0.8039 - val_loss: 0.8516 - val_accuracy: 0.8015\n",
            "Epoch 31/50\n",
            "196/196 [==============================] - 5s 23ms/step - loss: 0.8410 - accuracy: 0.8049 - val_loss: 0.9596 - val_accuracy: 0.7756\n",
            "Epoch 32/50\n",
            "196/196 [==============================] - 5s 24ms/step - loss: 0.8289 - accuracy: 0.8093 - val_loss: 0.7984 - val_accuracy: 0.8097\n",
            "Epoch 33/50\n",
            "196/196 [==============================] - 5s 23ms/step - loss: 0.8285 - accuracy: 0.8087 - val_loss: 0.8204 - val_accuracy: 0.8097\n",
            "Epoch 34/50\n",
            "196/196 [==============================] - 5s 23ms/step - loss: 0.8260 - accuracy: 0.8109 - val_loss: 0.8365 - val_accuracy: 0.8012\n",
            "Epoch 35/50\n",
            "196/196 [==============================] - 5s 24ms/step - loss: 0.8166 - accuracy: 0.8120 - val_loss: 0.8063 - val_accuracy: 0.8144\n",
            "Epoch 36/50\n",
            "196/196 [==============================] - 5s 23ms/step - loss: 0.8111 - accuracy: 0.8133 - val_loss: 0.7950 - val_accuracy: 0.8218\n",
            "Epoch 37/50\n",
            "196/196 [==============================] - 5s 23ms/step - loss: 0.8049 - accuracy: 0.8172 - val_loss: 0.7978 - val_accuracy: 0.8184\n",
            "Epoch 38/50\n",
            "196/196 [==============================] - 5s 23ms/step - loss: 0.8074 - accuracy: 0.8164 - val_loss: 0.8059 - val_accuracy: 0.8159\n",
            "Epoch 39/50\n",
            "196/196 [==============================] - 5s 23ms/step - loss: 0.7986 - accuracy: 0.8182 - val_loss: 0.8385 - val_accuracy: 0.8119\n",
            "Epoch 40/50\n",
            "196/196 [==============================] - 5s 24ms/step - loss: 0.7973 - accuracy: 0.8171 - val_loss: 0.8108 - val_accuracy: 0.8150\n",
            "Epoch 41/50\n",
            "196/196 [==============================] - 5s 23ms/step - loss: 0.7894 - accuracy: 0.8215 - val_loss: 0.8550 - val_accuracy: 0.8040\n",
            "Epoch 42/50\n",
            "196/196 [==============================] - 5s 23ms/step - loss: 0.7841 - accuracy: 0.8221 - val_loss: 0.8202 - val_accuracy: 0.8125\n",
            "Epoch 43/50\n",
            "196/196 [==============================] - 5s 24ms/step - loss: 0.7923 - accuracy: 0.8210 - val_loss: 0.7731 - val_accuracy: 0.8278\n",
            "Epoch 44/50\n",
            "196/196 [==============================] - 5s 23ms/step - loss: 0.7772 - accuracy: 0.8257 - val_loss: 0.7849 - val_accuracy: 0.8253\n",
            "Epoch 45/50\n",
            "196/196 [==============================] - 5s 24ms/step - loss: 0.7774 - accuracy: 0.8270 - val_loss: 0.8266 - val_accuracy: 0.8154\n",
            "Epoch 46/50\n",
            "196/196 [==============================] - 5s 24ms/step - loss: 0.7770 - accuracy: 0.8277 - val_loss: 0.8069 - val_accuracy: 0.8180\n",
            "Epoch 47/50\n",
            "196/196 [==============================] - 5s 23ms/step - loss: 0.7674 - accuracy: 0.8294 - val_loss: 0.8111 - val_accuracy: 0.8187\n",
            "Epoch 48/50\n",
            "196/196 [==============================] - 5s 24ms/step - loss: 0.7730 - accuracy: 0.8287 - val_loss: 0.7491 - val_accuracy: 0.8331\n",
            "Epoch 49/50\n",
            "196/196 [==============================] - 5s 24ms/step - loss: 0.7607 - accuracy: 0.8300 - val_loss: 0.7717 - val_accuracy: 0.8287\n",
            "Epoch 50/50\n",
            "196/196 [==============================] - 5s 24ms/step - loss: 0.7593 - accuracy: 0.8326 - val_loss: 0.8216 - val_accuracy: 0.8151\n"
          ],
          "name": "stdout"
        }
      ]
    },
    {
      "cell_type": "code",
      "metadata": {
        "colab": {
          "base_uri": "https://localhost:8080/",
          "height": 313
        },
        "id": "mriTRIKwOdi6",
        "outputId": "b4d4f33c-72ad-45a3-d38b-961ef1bde373"
      },
      "source": [
        "plt.plot(history.history['accuracy'], label='accuracy')\n",
        "plt.plot(history.history['val_accuracy'], label = 'val_accuracy')\n",
        "plt.title('Training and Validation Accuracy')\n",
        "plt.xlabel('Epoch')\n",
        "plt.ylabel('Accuracy')\n",
        "plt.legend(loc='upper left')"
      ],
      "execution_count": null,
      "outputs": [
        {
          "output_type": "execute_result",
          "data": {
            "text/plain": [
              "<matplotlib.legend.Legend at 0x7f87a79adeb8>"
            ]
          },
          "metadata": {
            "tags": []
          },
          "execution_count": 178
        },
        {
          "output_type": "display_data",
          "data": {
            "image/png": "[encoded data removed]",
            "text/plain": [
              "<Figure size 432x288 with 1 Axes>"
            ]
          },
          "metadata": {
            "tags": [],
            "needs_background": "light"
          }
        }
      ]
    },
    {
      "cell_type": "code",
      "metadata": {
        "colab": {
          "base_uri": "https://localhost:8080/",
          "height": 313
        },
        "id": "oTpm9EONOmVH",
        "outputId": "a4338022-f0f2-4fb0-8514-be80b514dce7"
      },
      "source": [
        "plt.plot(history.history['loss'])\n",
        "plt.plot(history.history['val_loss'])\n",
        "plt.title('Training and Validation Loss')\n",
        "plt.xlabel('Epoch')\n",
        "plt.ylabel('Loss')\n",
        "plt.legend(['loss', 'val_loss'], loc='upper right')"
      ],
      "execution_count": null,
      "outputs": [
        {
          "output_type": "execute_result",
          "data": {
            "text/plain": [
              "<matplotlib.legend.Legend at 0x7f87a7334dd8>"
            ]
          },
          "metadata": {
            "tags": []
          },
          "execution_count": 179
        },
        {
          "output_type": "display_data",
          "data": {
            "image/png": "[encoded data removed]",
            "text/plain": [
              "<Figure size 432x288 with 1 Axes>"
            ]
          },
          "metadata": {
            "tags": [],
            "needs_background": "light"
          }
        }
      ]
    },
    {
      "cell_type": "markdown",
      "metadata": {
        "id": "GBgYdwYFkGHY"
      },
      "source": [
        "This is the end of my report. The best results that I have achieved are presented in the test 5 and in my bonus test as there is no overfitting or underfitting and the accuracy of the training is +80%."
      ]
    }
  ]
}